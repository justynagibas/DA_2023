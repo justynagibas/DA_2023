{
 "cells": [
  {
   "attachments": {},
   "cell_type": "markdown",
   "metadata": {},
   "source": [
    "# Lab 6 - Model comparison\n",
    "\n",
    "Justyna Gibas 403122"
   ]
  },
  {
   "cell_type": "code",
   "execution_count": 105,
   "metadata": {},
   "outputs": [],
   "source": [
    "from cmdstanpy import CmdStanModel\n",
    "import matplotlib.pyplot as plt\n",
    "import numpy as np\n",
    "import pandas as pd  \n",
    "import arviz as az\n",
    "\n",
    "N = (len(\"Justyna\")+len(\"Gibas\"))*100"
   ]
  },
  {
   "attachments": {},
   "cell_type": "markdown",
   "metadata": {},
   "source": [
    "Generate data"
   ]
  },
  {
   "cell_type": "code",
   "execution_count": 106,
   "metadata": {},
   "outputs": [
    {
     "name": "stderr",
     "output_type": "stream",
     "text": [
      "INFO:cmdstanpy:found newer exe file, not recompiling\n",
      "INFO:cmdstanpy:CmdStan start processing\n",
      "chain 1 |\u001b[34m██████████\u001b[0m| 00:00 Sampling completed"
     ]
    },
    {
     "name": "stdout",
     "output_type": "stream",
     "text": [
      "                                                                                "
     ]
    },
    {
     "name": "stderr",
     "output_type": "stream",
     "text": [
      "\n",
      "INFO:cmdstanpy:CmdStan done processing.\n"
     ]
    },
    {
     "name": "stdout",
     "output_type": "stream",
     "text": [
      "\n"
     ]
    }
   ],
   "source": [
    "model_1=CmdStanModel(stan_file='code_1.stan')\n",
    "data=dict(N=N)\n",
    "sim_1=model_1.sample(data=data,\n",
    "                    iter_sampling=1,\n",
    "                    fixed_param=True, \n",
    "                    iter_warmup=0, \n",
    "                    chains=1, \n",
    "                    seed=29042020)"
   ]
  },
  {
   "cell_type": "code",
   "execution_count": 107,
   "metadata": {},
   "outputs": [
    {
     "name": "stderr",
     "output_type": "stream",
     "text": [
      "INFO:cmdstanpy:found newer exe file, not recompiling\n",
      "INFO:cmdstanpy:CmdStan start processing\n",
      "chain 1 |\u001b[34m██████████\u001b[0m| 00:00 Sampling completed"
     ]
    },
    {
     "name": "stdout",
     "output_type": "stream",
     "text": [
      "                                                                                "
     ]
    },
    {
     "name": "stderr",
     "output_type": "stream",
     "text": [
      "\n",
      "INFO:cmdstanpy:CmdStan done processing.\n"
     ]
    },
    {
     "name": "stdout",
     "output_type": "stream",
     "text": [
      "\n"
     ]
    }
   ],
   "source": [
    "model_2=CmdStanModel(stan_file='code_2.stan')\n",
    "data=dict(N=N)\n",
    "sim_2=model_2.sample(data=data,\n",
    "                    iter_sampling=1,\n",
    "                    fixed_param=True, \n",
    "                    iter_warmup=0, \n",
    "                    chains=1, \n",
    "                    seed=29042020)"
   ]
  },
  {
   "cell_type": "code",
   "execution_count": 108,
   "metadata": {},
   "outputs": [
    {
     "data": {
      "text/html": [
       "<div>\n",
       "<style scoped>\n",
       "    .dataframe tbody tr th:only-of-type {\n",
       "        vertical-align: middle;\n",
       "    }\n",
       "\n",
       "    .dataframe tbody tr th {\n",
       "        vertical-align: top;\n",
       "    }\n",
       "\n",
       "    .dataframe thead th {\n",
       "        text-align: right;\n",
       "    }\n",
       "</style>\n",
       "<table border=\"1\" class=\"dataframe\">\n",
       "  <thead>\n",
       "    <tr style=\"text-align: right;\">\n",
       "      <th></th>\n",
       "      <th>y[1]</th>\n",
       "      <th>y[2]</th>\n",
       "      <th>y[3]</th>\n",
       "      <th>y[4]</th>\n",
       "      <th>y[5]</th>\n",
       "      <th>y[6]</th>\n",
       "      <th>y[7]</th>\n",
       "      <th>y[8]</th>\n",
       "      <th>y[9]</th>\n",
       "      <th>y[10]</th>\n",
       "      <th>...</th>\n",
       "      <th>y[1191]</th>\n",
       "      <th>y[1192]</th>\n",
       "      <th>y[1193]</th>\n",
       "      <th>y[1194]</th>\n",
       "      <th>y[1195]</th>\n",
       "      <th>y[1196]</th>\n",
       "      <th>y[1197]</th>\n",
       "      <th>y[1198]</th>\n",
       "      <th>y[1199]</th>\n",
       "      <th>y[1200]</th>\n",
       "    </tr>\n",
       "  </thead>\n",
       "  <tbody>\n",
       "    <tr>\n",
       "      <th>0</th>\n",
       "      <td>-0.424502</td>\n",
       "      <td>-0.063661</td>\n",
       "      <td>-0.833885</td>\n",
       "      <td>1.55158</td>\n",
       "      <td>-0.362245</td>\n",
       "      <td>0.743487</td>\n",
       "      <td>0.970844</td>\n",
       "      <td>0.555378</td>\n",
       "      <td>0.598941</td>\n",
       "      <td>1.39907</td>\n",
       "      <td>...</td>\n",
       "      <td>-0.17927</td>\n",
       "      <td>-0.715089</td>\n",
       "      <td>-1.7273</td>\n",
       "      <td>-0.404984</td>\n",
       "      <td>1.08221</td>\n",
       "      <td>-1.00288</td>\n",
       "      <td>-1.35285</td>\n",
       "      <td>0.922614</td>\n",
       "      <td>-1.20906</td>\n",
       "      <td>-0.049961</td>\n",
       "    </tr>\n",
       "  </tbody>\n",
       "</table>\n",
       "<p>1 rows × 1200 columns</p>\n",
       "</div>"
      ],
      "text/plain": [
       "       y[1]      y[2]      y[3]     y[4]      y[5]      y[6]      y[7]  \\\n",
       "0 -0.424502 -0.063661 -0.833885  1.55158 -0.362245  0.743487  0.970844   \n",
       "\n",
       "       y[8]      y[9]    y[10]  ...  y[1191]   y[1192]  y[1193]   y[1194]  \\\n",
       "0  0.555378  0.598941  1.39907  ... -0.17927 -0.715089  -1.7273 -0.404984   \n",
       "\n",
       "   y[1195]  y[1196]  y[1197]   y[1198]  y[1199]   y[1200]  \n",
       "0  1.08221 -1.00288 -1.35285  0.922614 -1.20906 -0.049961  \n",
       "\n",
       "[1 rows x 1200 columns]"
      ]
     },
     "execution_count": 108,
     "metadata": {},
     "output_type": "execute_result"
    }
   ],
   "source": [
    "data_sim_1 = sim_1.draws_pd()\n",
    "y_data_1 = data_sim_1.iloc[:,3:]\n",
    "y_data_1 "
   ]
  },
  {
   "cell_type": "code",
   "execution_count": 109,
   "metadata": {},
   "outputs": [],
   "source": [
    "data_sim_2 = sim_2.draws_pd()\n",
    "y_data_2 = data_sim_2.iloc[:,3605:]\n",
    "x_data_2 = data_sim_2.iloc[:,2:3602]"
   ]
  },
  {
   "attachments": {},
   "cell_type": "markdown",
   "metadata": {},
   "source": [
    "Compare normal and sudent models using data from first model."
   ]
  },
  {
   "cell_type": "code",
   "execution_count": 110,
   "metadata": {},
   "outputs": [
    {
     "name": "stderr",
     "output_type": "stream",
     "text": [
      "INFO:cmdstanpy:found newer exe file, not recompiling\n",
      "INFO:cmdstanpy:CmdStan start processing\n",
      "chain 1 |\u001b[33m          \u001b[0m| 00:00 Status\n",
      "\u001b[A\n",
      "\n",
      "chain 1 |\u001b[33m▍         \u001b[0m| 00:00 Status\n",
      "\u001b[A\n",
      "\n",
      "chain 1 |\u001b[34m█████▉    \u001b[0m| 00:00 Iteration: 1001 / 2000 [ 50%]  (Sampling)\n",
      "\u001b[A\n",
      "\n",
      "\u001b[A\u001b[A\n",
      "\n",
      "chain 1 |\u001b[34m████████▏ \u001b[0m| 00:01 Iteration: 1500 / 2000 [ 75%]  (Sampling)\n",
      "\u001b[A\n",
      "\n",
      "chain 1 |\u001b[34m█████████▌\u001b[0m| 00:01 Iteration: 1800 / 2000 [ 90%]  (Sampling)\n",
      "\u001b[A\n",
      "\n",
      "chain 1 |\u001b[34m██████████\u001b[0m| 00:01 Sampling completed                       \n",
      "chain 2 |\u001b[34m██████████\u001b[0m| 00:01 Sampling completed                       \n",
      "chain 3 |\u001b[34m██████████\u001b[0m| 00:01 Sampling completed                       \n",
      "chain 4 |\u001b[34m██████████\u001b[0m| 00:01 Sampling completed                       "
     ]
    },
    {
     "name": "stdout",
     "output_type": "stream",
     "text": [
      "                                                                                                                                                                                                                                                                                                                                "
     ]
    },
    {
     "name": "stderr",
     "output_type": "stream",
     "text": [
      "\n",
      "INFO:cmdstanpy:CmdStan done processing.\n"
     ]
    },
    {
     "name": "stdout",
     "output_type": "stream",
     "text": [
      "\n"
     ]
    }
   ],
   "source": [
    "model_3=CmdStanModel(stan_file='code_3.stan')\n",
    "data=dict(N=N, y=y_data_1.to_numpy().reshape(-1))\n",
    "sim_3=model_3.sample(data=data)"
   ]
  },
  {
   "cell_type": "code",
   "execution_count": 111,
   "metadata": {},
   "outputs": [
    {
     "name": "stderr",
     "output_type": "stream",
     "text": [
      "INFO:cmdstanpy:found newer exe file, not recompiling\n",
      "INFO:cmdstanpy:CmdStan start processing\n",
      "chain 1 |\u001b[33m          \u001b[0m| 00:00 Status\n",
      "\u001b[A\n",
      "\n",
      "chain 1 |\u001b[33m▍         \u001b[0m| 00:00 Status\n",
      "\n",
      "\u001b[A\u001b[A\n",
      "chain 1 |\u001b[33m██▋       \u001b[0m| 00:00 Iteration:  400 / 2000 [ 20%]  (Warmup)\n",
      "\n",
      "\u001b[A\u001b[A\n",
      "\u001b[A\n",
      "\n",
      "\u001b[A\u001b[A\n",
      "chain 1 |\u001b[34m█████▉    \u001b[0m| 00:00 Iteration: 1001 / 2000 [ 50%]  (Sampling)\n",
      "\u001b[A\n",
      "\n",
      "chain 1 |\u001b[34m████████▏ \u001b[0m| 00:01 Iteration: 1500 / 2000 [ 75%]  (Sampling)\n",
      "\u001b[A\n",
      "\n",
      "chain 1 |\u001b[34m█████████ \u001b[0m| 00:02 Iteration: 1700 / 2000 [ 85%]  (Sampling)\n",
      "\u001b[A\n",
      "\n",
      "\u001b[A\u001b[A\n",
      "chain 1 |\u001b[34m██████████\u001b[0m| 00:02 Iteration: 1900 / 2000 [ 95%]  (Sampling)\n",
      "\n",
      "chain 1 |\u001b[34m██████████\u001b[0m| 00:02 Sampling completed                       \n",
      "chain 2 |\u001b[34m██████████\u001b[0m| 00:02 Sampling completed                       \n",
      "chain 3 |\u001b[34m██████████\u001b[0m| 00:02 Sampling completed                       \n",
      "chain 4 |\u001b[34m██████████\u001b[0m| 00:02 Sampling completed                       "
     ]
    },
    {
     "name": "stdout",
     "output_type": "stream",
     "text": [
      "                                                                                                                                                                                                                                                                                                                                "
     ]
    },
    {
     "name": "stderr",
     "output_type": "stream",
     "text": [
      "\n",
      "INFO:cmdstanpy:CmdStan done processing.\n"
     ]
    },
    {
     "name": "stdout",
     "output_type": "stream",
     "text": [
      "\n"
     ]
    }
   ],
   "source": [
    "model_4=CmdStanModel(stan_file='code_4.stan')\n",
    "data=dict(N=N, y=y_data_1.to_numpy().reshape(-1))\n",
    "sim_4=model_4.sample(data=data)"
   ]
  },
  {
   "cell_type": "code",
   "execution_count": 112,
   "metadata": {},
   "outputs": [],
   "source": [
    "model_3_dict = az.from_cmdstanpy(posterior=sim_3)\n",
    "model_4_dict = az.from_cmdstanpy(posterior=sim_4)\n",
    "models_to_compare = {\"normal\":model_3_dict,\"student\":model_4_dict}"
   ]
  },
  {
   "cell_type": "code",
   "execution_count": 113,
   "metadata": {},
   "outputs": [
    {
     "name": "stderr",
     "output_type": "stream",
     "text": [
      "/usr/local/lib/python3.9/site-packages/arviz/stats/stats.py:811: UserWarning: Estimated shape parameter of Pareto distribution is greater than 0.7 for one or more samples. You should consider using a more robust model, this is because importance sampling is less likely to work well if the marginal posterior and LOO posterior are very different. This is more likely to happen with a non-robust model and highly influential observations.\n",
      "  warnings.warn(\n"
     ]
    },
    {
     "data": {
      "text/plain": [
       "<AxesSubplot:xlabel='Log'>"
      ]
     },
     "execution_count": 113,
     "metadata": {},
     "output_type": "execute_result"
    },
    {
     "data": {
      "image/png": "[encoded data removed]",
      "text/plain": [
       "<Figure size 1440x576 with 1 Axes>"
      ]
     },
     "metadata": {
      "needs_background": "light"
     },
     "output_type": "display_data"
    }
   ],
   "source": [
    "comparison_loo = az.compare(models_to_compare, ic='loo')\n",
    "az.plot_compare(comparison_loo, figsize=(20,8))"
   ]
  },
  {
   "cell_type": "code",
   "execution_count": 114,
   "metadata": {},
   "outputs": [
    {
     "name": "stderr",
     "output_type": "stream",
     "text": [
      "/usr/local/lib/python3.9/site-packages/arviz/stats/stats.py:1635: UserWarning: For one or more samples the posterior variance of the log predictive densities exceeds 0.4. This could be indication of WAIC starting to fail. \n",
      "See http://arxiv.org/abs/1507.04544 for details\n",
      "  warnings.warn(\n",
      "/usr/local/lib/python3.9/site-packages/arviz/stats/stats.py:1635: UserWarning: For one or more samples the posterior variance of the log predictive densities exceeds 0.4. This could be indication of WAIC starting to fail. \n",
      "See http://arxiv.org/abs/1507.04544 for details\n",
      "  warnings.warn(\n"
     ]
    },
    {
     "data": {
      "text/plain": [
       "<AxesSubplot:xlabel='Log'>"
      ]
     },
     "execution_count": 114,
     "metadata": {},
     "output_type": "execute_result"
    },
    {
     "data": {
      "image/png": "[encoded data removed]",
      "text/plain": [
       "<Figure size 1440x576 with 1 Axes>"
      ]
     },
     "metadata": {
      "needs_background": "light"
     },
     "output_type": "display_data"
    }
   ],
   "source": [
    "comparison_waic = az.compare(models_to_compare, ic='waic')\n",
    "az.plot_compare(comparison_waic, figsize=(20,8))"
   ]
  },
  {
   "attachments": {},
   "cell_type": "markdown",
   "metadata": {},
   "source": [
    "Compare models with different number of predictors"
   ]
  },
  {
   "cell_type": "code",
   "execution_count": 115,
   "metadata": {},
   "outputs": [
    {
     "name": "stderr",
     "output_type": "stream",
     "text": [
      "INFO:cmdstanpy:found newer exe file, not recompiling\n"
     ]
    }
   ],
   "source": [
    "model_5=CmdStanModel(stan_file='code_5.stan')"
   ]
  },
  {
   "cell_type": "code",
   "execution_count": 116,
   "metadata": {},
   "outputs": [
    {
     "name": "stderr",
     "output_type": "stream",
     "text": [
      "INFO:cmdstanpy:CmdStan start processing\n",
      "chain 1 |\u001b[33m          \u001b[0m| 00:00 Status\n",
      "\u001b[A\n",
      "\n",
      "chain 1 |\u001b[33m▍         \u001b[0m| 00:00 Status\n",
      "\u001b[A\n",
      "\n",
      "chain 1 |\u001b[33m████      \u001b[0m| 00:00 Iteration:  700 / 2000 [ 35%]  (Warmup)\n",
      "\u001b[A\n",
      "\n",
      "\u001b[A\u001b[A\n",
      "\n",
      "\u001b[A\u001b[A\n",
      "chain 1 |\u001b[34m██████▎   \u001b[0m| 00:00 Iteration: 1100 / 2000 [ 55%]  (Sampling)\n",
      "\n",
      "chain 1 |\u001b[34m████████▏ \u001b[0m| 00:01 Iteration: 1500 / 2000 [ 75%]  (Sampling)\n",
      "\u001b[A\n",
      "\n",
      "\u001b[A\u001b[A\n",
      "chain 1 |\u001b[34m█████████▌\u001b[0m| 00:02 Iteration: 1800 / 2000 [ 90%]  (Sampling)\n",
      "\n",
      "chain 1 |\u001b[34m██████████\u001b[0m| 00:02 Sampling completed                       \n",
      "chain 2 |\u001b[34m██████████\u001b[0m| 00:02 Sampling completed                       \n",
      "chain 3 |\u001b[34m██████████\u001b[0m| 00:02 Sampling completed                       \n",
      "chain 4 |\u001b[34m██████████\u001b[0m| 00:02 Sampling completed                       "
     ]
    },
    {
     "name": "stdout",
     "output_type": "stream",
     "text": [
      "                                                                                                                                                                                                                                                                                                                                "
     ]
    },
    {
     "name": "stderr",
     "output_type": "stream",
     "text": [
      "\n",
      "INFO:cmdstanpy:CmdStan done processing.\n"
     ]
    },
    {
     "name": "stdout",
     "output_type": "stream",
     "text": [
      "\n"
     ]
    },
    {
     "name": "stderr",
     "output_type": "stream",
     "text": [
      "INFO:cmdstanpy:CmdStan start processing\n",
      "chain 1 |\u001b[33m          \u001b[0m| 00:00 Status\n",
      "\u001b[A\n",
      "\n",
      "chain 1 |\u001b[33m▍         \u001b[0m| 00:00 Status\n",
      "\n",
      "\u001b[A\u001b[A\n",
      "chain 1 |\u001b[33m██▋       \u001b[0m| 00:00 Iteration:  400 / 2000 [ 20%]  (Warmup)\n",
      "\n",
      "\u001b[A\u001b[A\n",
      "chain 1 |\u001b[34m█████▉    \u001b[0m| 00:00 Iteration: 1001 / 2000 [ 50%]  (Sampling)\n",
      "\n",
      "\u001b[A\u001b[A\n",
      "chain 1 |\u001b[34m███████▎  \u001b[0m| 00:01 Iteration: 1300 / 2000 [ 65%]  (Sampling)\n",
      "\n",
      "\u001b[A\u001b[A\n",
      "\u001b[A\n",
      "chain 1 |\u001b[34m████████▏ \u001b[0m| 00:01 Iteration: 1500 / 2000 [ 75%]  (Sampling)\n",
      "\n",
      "\u001b[A\u001b[A\n",
      "chain 1 |\u001b[34m█████████ \u001b[0m| 00:02 Iteration: 1700 / 2000 [ 85%]  (Sampling)\n",
      "\n",
      "\u001b[A\u001b[A\n",
      "chain 1 |\u001b[34m█████████▌\u001b[0m| 00:02 Iteration: 1800 / 2000 [ 90%]  (Sampling)\n",
      "\n",
      "\u001b[A\u001b[A\n",
      "chain 1 |\u001b[34m██████████\u001b[0m| 00:03 Iteration: 1900 / 2000 [ 95%]  (Sampling)\n",
      "\n",
      "chain 1 |\u001b[34m██████████\u001b[0m| 00:03 Sampling completed                       \n",
      "chain 2 |\u001b[34m██████████\u001b[0m| 00:03 Sampling completed                       \n",
      "chain 3 |\u001b[34m██████████\u001b[0m| 00:03 Sampling completed                       \n",
      "chain 4 |\u001b[34m██████████\u001b[0m| 00:03 Sampling completed                       "
     ]
    },
    {
     "name": "stdout",
     "output_type": "stream",
     "text": [
      "                                                                                                                                                                                                                                                                                                                                "
     ]
    },
    {
     "name": "stderr",
     "output_type": "stream",
     "text": [
      "\n",
      "INFO:cmdstanpy:CmdStan done processing.\n"
     ]
    },
    {
     "name": "stdout",
     "output_type": "stream",
     "text": [
      "\n"
     ]
    },
    {
     "name": "stderr",
     "output_type": "stream",
     "text": [
      "INFO:cmdstanpy:CmdStan start processing\n",
      "chain 1 |\u001b[33m          \u001b[0m| 00:00 Status\n",
      "\u001b[A\n",
      "\n",
      "chain 1 |\u001b[33m▍         \u001b[0m| 00:00 Status\n",
      "\u001b[A\n",
      "\n",
      "chain 1 |\u001b[33m██▋       \u001b[0m| 00:00 Iteration:  400 / 2000 [ 20%]  (Warmup)\n",
      "\u001b[A\n",
      "\n",
      "chain 1 |\u001b[33m█████     \u001b[0m| 00:00 Iteration:  900 / 2000 [ 45%]  (Warmup)\n",
      "\u001b[A\n",
      "\n",
      "\u001b[A\u001b[A\n",
      "chain 1 |\u001b[34m██████▊   \u001b[0m| 00:01 Iteration: 1200 / 2000 [ 60%]  (Sampling)\n",
      "\n",
      "\u001b[A\u001b[A\n",
      "chain 1 |\u001b[34m████████▏ \u001b[0m| 00:02 Iteration: 1500 / 2000 [ 75%]  (Sampling)\n",
      "\n",
      "\u001b[A\u001b[A\n",
      "chain 1 |\u001b[34m█████████ \u001b[0m| 00:02 Iteration: 1700 / 2000 [ 85%]  (Sampling)\n",
      "\n",
      "\u001b[A\u001b[A\n",
      "\n",
      "\u001b[A\u001b[A\n",
      "chain 1 |\u001b[34m██████████\u001b[0m| 00:03 Iteration: 1900 / 2000 [ 95%]  (Sampling)\n",
      "\n",
      "\u001b[A\u001b[A\n",
      "chain 1 |\u001b[34m██████████\u001b[0m| 00:03 Sampling completed                       \n",
      "chain 2 |\u001b[34m██████████\u001b[0m| 00:03 Sampling completed                       \n",
      "chain 3 |\u001b[34m██████████\u001b[0m| 00:03 Sampling completed                       \n",
      "chain 4 |\u001b[34m██████████\u001b[0m| 00:03 Sampling completed                       "
     ]
    },
    {
     "name": "stdout",
     "output_type": "stream",
     "text": [
      "                                                                                                                                                                                                                                                                                                                                "
     ]
    },
    {
     "name": "stderr",
     "output_type": "stream",
     "text": [
      "\n",
      "INFO:cmdstanpy:CmdStan done processing.\n"
     ]
    },
    {
     "name": "stdout",
     "output_type": "stream",
     "text": [
      "\n"
     ]
    }
   ],
   "source": [
    "x_1 = x_data_2.iloc[:,:1200]\n",
    "x_2 = x_data_2.iloc[:,:2400]\n",
    "\n",
    "data=dict(N=N, K=1, y=y_data_2.to_numpy().reshape(-1), X=x_1.to_numpy().reshape(N,1))\n",
    "sim_one_param=model_5.sample(data=data)\n",
    "\n",
    "data=dict(N=N, K=2,y=y_data_2.to_numpy().reshape(-1), X=x_2.to_numpy().reshape(N,2))\n",
    "sim_two_param=model_5.sample(data=data)\n",
    "\n",
    "data=dict(N=N, K=3,y=y_data_2.to_numpy().reshape(-1),X=x_data_2.to_numpy().reshape(N,3))\n",
    "sim_three_param=model_5.sample(data=data)\n"
   ]
  },
  {
   "cell_type": "code",
   "execution_count": 117,
   "metadata": {},
   "outputs": [],
   "source": [
    "ona_param_model= az.from_cmdstanpy(posterior=sim_one_param)\n",
    "two_param_model= az.from_cmdstanpy(posterior=sim_two_param)\n",
    "three_param_model = az.from_cmdstanpy(posterior=sim_three_param)\n",
    "models_to_compare = {\"One parameter\":ona_param_model,\"Two parameters\":two_param_model, \"Three parameters\":three_param_model}"
   ]
  },
  {
   "cell_type": "code",
   "execution_count": 118,
   "metadata": {},
   "outputs": [
    {
     "data": {
      "text/plain": [
       "<AxesSubplot:xlabel='Log'>"
      ]
     },
     "execution_count": 118,
     "metadata": {},
     "output_type": "execute_result"
    },
    {
     "data": {
      "image/png": "[encoded data removed]",
      "text/plain": [
       "<Figure size 1440x576 with 1 Axes>"
      ]
     },
     "metadata": {
      "needs_background": "light"
     },
     "output_type": "display_data"
    }
   ],
   "source": [
    "comparison_param_loo = az.compare(models_to_compare, ic='loo')\n",
    "az.plot_compare(comparison_param_loo, figsize=(20,8))"
   ]
  },
  {
   "cell_type": "code",
   "execution_count": 119,
   "metadata": {},
   "outputs": [
    {
     "data": {
      "text/plain": [
       "<AxesSubplot:xlabel='Log'>"
      ]
     },
     "execution_count": 119,
     "metadata": {},
     "output_type": "execute_result"
    },
    {
     "data": {
      "image/png": "[encoded data removed]",
      "text/plain": [
       "<Figure size 1440x576 with 1 Axes>"
      ]
     },
     "metadata": {
      "needs_background": "light"
     },
     "output_type": "display_data"
    }
   ],
   "source": [
    "comparison_param_waic = az.compare(models_to_compare, ic='waic')\n",
    "az.plot_compare(comparison_param_waic, figsize=(20,8))"
   ]
  }
 ],
 "metadata": {
  "kernelspec": {
   "display_name": "Python 3",
   "language": "python",
   "name": "python3"
  },
  "language_info": {
   "codemirror_mode": {
    "name": "ipython",
    "version": 3
   },
   "file_extension": ".py",
   "mimetype": "text/x-python",
   "name": "python",
   "nbconvert_exporter": "python",
   "pygments_lexer": "ipython3",
   "version": "3.9.11"
  },
  "orig_nbformat": 4
 },
 "nbformat": 4,
 "nbformat_minor": 2
}
